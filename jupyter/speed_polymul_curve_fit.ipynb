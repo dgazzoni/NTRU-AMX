{
 "cells": [
  {
   "cell_type": "code",
   "execution_count": 1,
   "metadata": {},
   "outputs": [],
   "source": [
    "import re\n",
    "import matplotlib\n",
    "import matplotlib.pyplot as plt\n",
    "import numpy as np\n",
    "from scipy.optimize import curve_fit"
   ]
  },
  {
   "cell_type": "code",
   "execution_count": 2,
   "metadata": {},
   "outputs": [],
   "source": [
    "CPU = \"M3_dit\""
   ]
  },
  {
   "cell_type": "code",
   "execution_count": 3,
   "metadata": {},
   "outputs": [],
   "source": [
    "def quadratic(n, c2, c1, c0):\n",
    "    return c2 * n**2 + c1 * n + c0\n",
    "\n",
    "\n",
    "def subquadratic(n, c1, c0):\n",
    "    return c1 * n**c0"
   ]
  },
  {
   "cell_type": "code",
   "execution_count": 4,
   "metadata": {},
   "outputs": [],
   "source": [
    "n_pm = []\n",
    "cycles_pm = []\n",
    "\n",
    "with open(f\"../speed_results_{CPU}/polymul_scaling.txt\", \"r\", encoding=\"utf-8\") as f:\n",
    "    for line in f:\n",
    "        match = re.match(r\"amx_polymul (\\d+) x (\\d+): (\\d+)\", line)\n",
    "        if match:\n",
    "            n_pm.append(match.group(1))\n",
    "            cycles_pm.append(match.group(3))\n",
    "\n",
    "n_pm = np.array(n_pm, dtype=np.float64)\n",
    "cycles_pm = np.array(cycles_pm, dtype=np.float64)"
   ]
  },
  {
   "cell_type": "code",
   "execution_count": 5,
   "metadata": {},
   "outputs": [],
   "source": [
    "n_pmm = []\n",
    "cycles_pmm = []\n",
    "\n",
    "with open(f\"../speed_results_{CPU}/polymodmul_scaling.txt\", \"r\", encoding=\"utf-8\") as f:\n",
    "    for line in f:\n",
    "        match = re.match(r\"amx_polymodmul (\\d+) x (\\d+): (\\d+)\", line)\n",
    "        if match:\n",
    "            n_pmm.append(match.group(1))\n",
    "            cycles_pmm.append(match.group(3))\n",
    "\n",
    "n_pmm = np.array(n_pmm, dtype=np.float64)\n",
    "cycles_pmm = np.array(cycles_pmm, dtype=np.float64)"
   ]
  },
  {
   "cell_type": "code",
   "execution_count": 6,
   "metadata": {},
   "outputs": [],
   "source": [
    "n_pmmk = []\n",
    "cycles_pmmk = []\n",
    "\n",
    "with open(f\"../speed_results_{CPU}/polymodmul_karatsuba_scaling.txt\", \"r\", encoding=\"utf-8\") as f:\n",
    "    for line in f:\n",
    "        match = re.match(r\"amx_polymodmul (\\d+) x (\\d+): (\\d+)\", line)\n",
    "        if match:\n",
    "            n_pmmk.append(match.group(1))\n",
    "            cycles_pmmk.append(match.group(3))\n",
    "\n",
    "n_pmmk = np.array(n_pmmk, dtype=np.float64)\n",
    "cycles_pmmk = np.array(cycles_pmmk, dtype=np.float64)"
   ]
  },
  {
   "cell_type": "code",
   "execution_count": 7,
   "metadata": {},
   "outputs": [],
   "source": [
    "indices_pm = np.where(n_pm <= 832)[0]\n",
    "indices_pmm = np.where(n_pmm <= 832)[0]"
   ]
  },
  {
   "cell_type": "code",
   "execution_count": 8,
   "metadata": {},
   "outputs": [],
   "source": [
    "quadratic_fit_pm, _ = curve_fit(quadratic, n_pm[indices_pm], cycles_pm[indices_pm])\n",
    "subquadratic_fit_pm, _ = curve_fit(subquadratic, n_pm[indices_pm], cycles_pm[indices_pm])"
   ]
  },
  {
   "cell_type": "code",
   "execution_count": 9,
   "metadata": {},
   "outputs": [],
   "source": [
    "quadratic_fit_pmm, _ = curve_fit(quadratic, n_pmm[indices_pmm], cycles_pmm[indices_pmm])\n",
    "subquadratic_fit_pmm, _ = curve_fit(subquadratic, n_pmm[indices_pmm], cycles_pmm[indices_pmm])"
   ]
  },
  {
   "cell_type": "code",
   "execution_count": 10,
   "metadata": {},
   "outputs": [],
   "source": [
    "matplotlib.use(\"pgf\")\n",
    "matplotlib.rcParams.update({\n",
    "    \"pgf.texsystem\": \"pdflatex\",\n",
    "    'font.family': 'serif',\n",
    "    'text.usetex': True,\n",
    "    'pgf.rcfonts': False,\n",
    "})"
   ]
  },
  {
   "cell_type": "code",
   "execution_count": 11,
   "metadata": {},
   "outputs": [],
   "source": [
    "fig, axs = plt.subplots(1, 2, figsize=(10, 2))\n",
    "\n",
    "axs[0].plot(n_pm[indices_pm], cycles_pm[indices_pm], \"kx\", label=\"w/o reduction\")\n",
    "# plt.plot(n_pm, quadratic(n_pm, *quadratic_fit_pm), \"r-\", label=\"fit: %f*x^2 + %f*x + %f\" % tuple(quadratic_fit_pm))\n",
    "axs[0].plot(\n",
    "    n_pm[indices_pm],\n",
    "    subquadratic(n_pm[indices_pm], *subquadratic_fit_pm),\n",
    "    \"k-\",\n",
    "    label=r\"fit: $%.3f x^{%.3f}$\" % tuple(subquadratic_fit_pm)\n",
    ")\n",
    "axs[0].plot(n_pmm[indices_pmm], cycles_pmm[indices_pmm], \"ko\", label=\"with reduction\")\n",
    "# plt.plot(n_pmm, quadratic(n_pmm, *quadratic_fit_pmm), \"y-\", label=\"fit: %f*x^2 + %f*x + %f\" % tuple(quadratic_fit_pmm))\n",
    "axs[0].plot(\n",
    "    n_pmm[indices_pmm],\n",
    "    subquadratic(n_pmm[indices_pmm], *subquadratic_fit_pmm),\n",
    "    \"k:\",\n",
    "    label=r\"fit: $%.3f x^{%.3f}$\" % tuple(subquadratic_fit_pmm)\n",
    ")\n",
    "axs[0].set_xlabel(\"$n$\")\n",
    "axs[0].set_ylabel(\"cycles\")\n",
    "axs[0].legend(fontsize='large')\n",
    "# axs[0].legend()\n",
    "axs[0].grid(linestyle = ':', linewidth = 0.5)\n",
    "axs[0].set_xticks(np.arange(0, 900, 100))\n",
    "axs[0].set_yticks(np.arange(0, 7001, 1000))\n",
    "axs[0].set_ylim(0, 7500)\n",
    "axs[0].set_xlim(-50, 900)\n",
    "axs[0].text(-0.08, -0.14, \"(a)\", transform=axs[0].transAxes, size=12)\n",
    "\n",
    "\n",
    "axs[1].plot(n_pmm, cycles_pmm, \"k\", label=\"Schoolbook with reduction\")\n",
    "axs[1].plot(n_pmmk, cycles_pmmk, \"k--\", label=\"Karatsuba with reduction\")\n",
    "axs[1].set_xlabel(\"$n$\")\n",
    "axs[1].set_ylabel(\"cycles\")\n",
    "axs[1].legend(fontsize='large')\n",
    "# axs[1].legend()\n",
    "axs[1].grid(linestyle = ':', linewidth = 0.5)\n",
    "axs[1].set_xticks(np.arange(0, 8200, 1000))\n",
    "axs[1].set_yticks(np.arange(0, 300000, 50000))\n",
    "axs[1].set_ylim(0, 300000)\n",
    "axs[1].text(-0.08, -0.14, \"(b)\", transform=axs[1].transAxes, size=12)\n",
    "\n",
    "# fig.show()\n",
    "\n",
    "plt.savefig(f\"../speed_results_{CPU}/polymul_scaling.pgf\", bbox_inches='tight', pad_inches=0)"
   ]
  },
  {
   "cell_type": "code",
   "execution_count": null,
   "metadata": {},
   "outputs": [],
   "source": []
  }
 ],
 "metadata": {
  "kernelspec": {
   "display_name": "Python 3",
   "language": "python",
   "name": "python3"
  },
  "language_info": {
   "codemirror_mode": {
    "name": "ipython",
    "version": 3
   },
   "file_extension": ".py",
   "mimetype": "text/x-python",
   "name": "python",
   "nbconvert_exporter": "python",
   "pygments_lexer": "ipython3",
   "version": "3.11.8"
  },
  "orig_nbformat": 4
 },
 "nbformat": 4,
 "nbformat_minor": 2
}
