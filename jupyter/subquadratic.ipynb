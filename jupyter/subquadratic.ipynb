{
 "cells": [
  {
   "cell_type": "code",
   "execution_count": null,
   "metadata": {},
   "outputs": [],
   "source": [
    "import math\n",
    "import re"
   ]
  },
  {
   "cell_type": "code",
   "execution_count": null,
   "metadata": {},
   "outputs": [],
   "source": [
    "CPU=\"M3_dit\""
   ]
  },
  {
   "cell_type": "code",
   "execution_count": null,
   "metadata": {},
   "outputs": [],
   "source": [
    "amx_polymul = {}\n",
    "amx_polymodmul = {}\n",
    "amx_polymodmul_karatsuba = {}\n",
    "\n",
    "# Read polynomial multiplication cycle counts from benchmark results\n",
    "with open(f\"../speed_results_{CPU}/polymul_scaling.txt\", \"r\", encoding=\"utf-8\") as f:\n",
    "    for line in f:\n",
    "        match = re.match(r\"amx_polymul (\\d+) x (\\d+): (\\d+)\", line)\n",
    "        if match:\n",
    "            amx_polymul[int(match.group(1))] = int(match.group(3))\n",
    "\n",
    "with open(f\"../speed_results_{CPU}/polymodmul_scaling.txt\", \"r\", encoding=\"utf-8\") as f:\n",
    "    for line in f:\n",
    "        match = re.match(r\"amx_polymodmul (\\d+) x (\\d+): (\\d+)\", line)\n",
    "        if match:\n",
    "            amx_polymodmul[int(match.group(1))] = int(match.group(3))\n",
    "\n",
    "with open(f\"../speed_results_{CPU}/polymodmul_karatsuba_scaling.txt\", \"r\", encoding=\"utf-8\") as f:\n",
    "    for line in f:\n",
    "        match = re.match(r\"amx_polymodmul (\\d+) x (\\d+): (\\d+)\", line)\n",
    "        if match:\n",
    "            amx_polymodmul_karatsuba[int(match.group(1))] = int(match.group(3))\n"
   ]
  },
  {
   "cell_type": "code",
   "execution_count": null,
   "metadata": {},
   "outputs": [],
   "source": [
    "# The algorithm is based on dynamic programming. min_costs stores the minimum cost for each size, as well as the\n",
    "# algorithm used to recurse (or \"schoolbook\" if this is the base case) to achieve this minimum cost.\n",
    "min_costs = {}\n",
    "min_costs[32] = [\"schoolbook\", amx_polymul[32]]"
   ]
  },
  {
   "cell_type": "code",
   "execution_count": null,
   "metadata": {},
   "outputs": [],
   "source": [
    "# The main function for calculating a lower bound on the minimum cost for n-coefficient polynomial multiplication.\n",
    "# It employs a dynamic programming algorithm, which computes the minimum cost among the possible recursion strategies\n",
    "# (schoolbook, Karatsuba, Toom-3 and Toom-4) for each level.\n",
    "def min_cost(n):\n",
    "    if n in min_costs:\n",
    "        return min_costs[n][1]\n",
    "    else:\n",
    "        cost_schoolbook = [\"schoolbook\", amx_polymul[n]]\n",
    "        cost_karatsuba = [\"karatsuba\", karatsuba(n)]\n",
    "        cost_tc3 = [\"tc3\", tc3(n)]\n",
    "        cost_tc4 = [\"tc4\", tc4(n)]\n",
    "        min_costs[n] = min(\n",
    "            cost_schoolbook, cost_karatsuba, cost_tc3, cost_tc4, key = lambda x: x[1]\n",
    "        )\n",
    "        return min_costs[n][1]"
   ]
  },
  {
   "cell_type": "code",
   "execution_count": null,
   "metadata": {},
   "outputs": [],
   "source": [
    "# Karatsuba cost computation\n",
    "def karatsuba(n):\n",
    "    # Impossible to apply Karatsuba if n < 64\n",
    "    if n < 64:\n",
    "        return math.inf\n",
    "\n",
    "    n32 = n // 32\n",
    "    n2 = n32 // 2\n",
    "\n",
    "    # If the number of blocks is even, we split the polynomial in two equal halves\n",
    "    if n32 % 2 == 0:\n",
    "        return 3 * min_cost(32 * n2)\n",
    "    # Otherwise, one of the blocks will be larger than the other. Consider the product f(x)*g(x), such that\n",
    "    # f(x) = f1(x)*x^(n2 + 1) + f0(x) and g(x) = g1(x)*x^n2 + g0(x), so that f0(x) and g0(x) are degree-32*(n2 + 1)\n",
    "    # polynomials, while f1(x) and g1(x) are degree-32*n2 polynomials. Thus, we have that f1(x) + f0(x) and \n",
    "    # g1(x) + g0(x) are also degree-32*(n2 + 1) polynomials. As such, of the three multiplications required, two\n",
    "    # (f0(x)*g0(x) and (f1(x) + f0(x))*(g1(x) + g0(x))) have larger input polynomials of degree 32*(n2 + 1), while\n",
    "    # f1(x)*g1(x) has smaller input polynomials of degree 32*n2.\n",
    "    else:\n",
    "        return 2 * min_cost(32 * (n2 + 1)) + min_cost(32 * n2)\n"
   ]
  },
  {
   "cell_type": "code",
   "execution_count": null,
   "metadata": {},
   "outputs": [],
   "source": [
    "# Toom-3 cost computation\n",
    "def tc3(n):\n",
    "    # Impossible to apply Toom-3 if n < 96\n",
    "    if n < 96:\n",
    "        return math.inf\n",
    "\n",
    "    n32 = n // 32\n",
    "    n3 = n32 // 3\n",
    "\n",
    "    # If the number of blocks is divisible by 3, we split the polynomial in three equal parts\n",
    "    if n32 % 3 == 0:\n",
    "        return 5 * min_cost(32 * n3)\n",
    "    # If the number of blocks is 1 modulo 3, we have two blocks of size n3 and one of size n3 + 1. Let\n",
    "    # f(x) = f2(x)*x^(2*n3 + 1) + f1(x)*x^n3 + f0(x) and similarly for g(x). Thus, f2(x), g2(x), f0(x) and g0(x) are\n",
    "    # degree-32*n3 polynomials, while f1(x) and g1(x) are degree-32*(n3 + 1) polynomials. The evaluations at 0 and\n",
    "    # infinity call for computing f0(x)*g0(x) and f2(x)*g2(x), whose input polynomials are of degree 32*n3, while the\n",
    "    # remaining 3 evaluations employ larger input polynomials of degree 32*(n3 + 1).\n",
    "    elif n32 % 3 == 1:\n",
    "        return 2 * min_cost(32 * n3) + 3 * min_cost(32 * (n3 + 1))\n",
    "    # If the number of blocks is 2 modulo 3, we have one block of size n3 and two of size n3 + 1. We can assign the\n",
    "    # smaller polynomial to either f0(x) and g0(x), in which case the evaluation at 0 can use smaller input polynomials\n",
    "    # of degree 32*n3, or to f2(x) and g2(x), in which case the evaluation at infinity can use these smaller input\n",
    "    # polynomials. Either way, the remaining 4 evaluations must employ larger input polynomials of degree 32*(n3 + 1).\n",
    "    else:\n",
    "        return 1 * min_cost(32 * n3) + 4 * min_cost(32 * (n3 + 1))"
   ]
  },
  {
   "cell_type": "code",
   "execution_count": null,
   "metadata": {},
   "outputs": [],
   "source": [
    "# Toom-4 cost computation\n",
    "def tc4(n):\n",
    "    # Impossible to apply Toom-4 if n < 128\n",
    "    if n < 128:\n",
    "        return math.inf\n",
    "\n",
    "    n32 = n // 32\n",
    "    n4 = n32 // 4\n",
    "\n",
    "    # If the number of blocks is divisible by 4, we split the polynomial in four equal parts\n",
    "    if n32 % 4 == 0:\n",
    "        return 7 * min_cost(32 * n4)\n",
    "    # If the number of blocks is 1 or 2 modulo 4, we have at least two blocks of size n4. Similarly to the Toom-3 case,\n",
    "    # these can be used for evaluation at 0 and infinity, using smaller input polynomials of degree 32*n4. The remaining\n",
    "    # 5 evaluations employ larger input polynomials of degree 32*(n4 + 1).\n",
    "    if n32 % 4 == 1 or n32 % 4 == 2:\n",
    "        return 2 * min_cost(32 * n4) + 5 * min_cost(32 * (n4 + 1))\n",
    "    # If the number of blocks is 3 modulo 4, we have one block of size n4 and three of size n4 + 1. Similarly to the\n",
    "    # Toom-3 case, only one small pair of input polynomials can be used for evaluation, at either 0 or infinity. The\n",
    "    # remaining 6 evaluations employ larger input polynomials of degree 32*(n4 + 1).\n",
    "    else:\n",
    "        return 1 * min_cost(32 * n4) + 6 * min_cost(32 * (n4 + 1))"
   ]
  },
  {
   "cell_type": "code",
   "execution_count": null,
   "metadata": {},
   "outputs": [],
   "source": [
    "# Computes and prints the minimum cost for all NTRU parameter sets, rounded up to the nearest multiple of 32;\n",
    "# i.e., 512 for n = 509, 704 for n = 677 and 701, and 832 for n = 821.\n",
    "for n in [512, 704, 832]:\n",
    "    print(\n",
    "        f\"n = {n} schoolbook performance = {amx_polymodmul[n]} subquadratic lower bound = {min_cost(n)} \" +\n",
    "        f\"1L Karatsuba lower bound = {3*amx_polymul[n // 2]} 1L Karatsuba performance = {amx_polymodmul_karatsuba[n]}\"\n",
    "    )"
   ]
  },
  {
   "cell_type": "code",
   "execution_count": null,
   "metadata": {},
   "outputs": [],
   "source": [
    "# Prints the memoized evaluations, helping to visualize the recursive strategies\n",
    "for key, value in sorted(min_costs.items()):\n",
    "    print(\"{}: {}\".format(key, value))"
   ]
  }
 ],
 "metadata": {
  "kernelspec": {
   "display_name": "Python 3",
   "language": "python",
   "name": "python3"
  },
  "language_info": {
   "codemirror_mode": {
    "name": "ipython",
    "version": 3
   },
   "file_extension": ".py",
   "mimetype": "text/x-python",
   "name": "python",
   "nbconvert_exporter": "python",
   "pygments_lexer": "ipython3",
   "version": "3.11.8"
  }
 },
 "nbformat": 4,
 "nbformat_minor": 2
}
