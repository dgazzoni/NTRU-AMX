{
 "cells": [
  {
   "cell_type": "code",
   "execution_count": null,
   "metadata": {},
   "outputs": [],
   "source": [
    "import matplotlib\n",
    "import matplotlib.pyplot as plt\n",
    "from matplotlib.backends.backend_pgf import FigureCanvasPgf\n",
    "from matplotlib.ticker import MaxNLocator\n",
    "import matplotlib.gridspec as gridspec\n",
    "import matplotlib.ticker as ticker\n",
    "import os"
   ]
  },
  {
   "cell_type": "code",
   "execution_count": null,
   "metadata": {},
   "outputs": [],
   "source": [
    "def import_data(filename):\n",
    "    zeros = []\n",
    "    random = []\n",
    "    with open(filename, 'r') as file:\n",
    "        for line in file:\n",
    "            line = line.split(' ')\n",
    "\n",
    "            zeros.append(int(line[0]))\n",
    "            random.append(int(line[1]))\n",
    "    return zeros, random"
   ]
  },
  {
   "cell_type": "code",
   "execution_count": null,
   "metadata": {},
   "outputs": [],
   "source": [
    "def remove_outliers(data):\n",
    "    d = []\n",
    "    for i, v in enumerate(data):\n",
    "        d.append((i, v))\n",
    "\n",
    "    d = sorted(d, key=lambda x: x[1])\n",
    "\n",
    "    d = d[(len(d) // 200):-(len(d) // 200)]\n",
    "\n",
    "    d = sorted(d, key=lambda x: x[0])\n",
    "    return [x[1] for x in d]"
   ]
  },
  {
   "cell_type": "code",
   "execution_count": null,
   "metadata": {},
   "outputs": [],
   "source": [
    "path = \"../ct_results_M3_dit\"\n",
    "filenames = [\n",
    "    \"ntru:hps2048509:stack:NG21:amx.txt\",\n",
    "    \"ntru:hps2048509:mmap:NG21:amx.txt\",\n",
    "    \"ntru:hps2048509:mmap:NG21:neon.txt\",\n",
    "]\n",
    "\n",
    "zeros = [None]*3\n",
    "random = [None]*3\n",
    "\n",
    "for i, filename in enumerate(filenames):\n",
    "    zeros[i], random[i] = import_data(os.path.join(path, filename))\n",
    "    zeros[i] = remove_outliers(zeros[i])\n",
    "    random[i] = remove_outliers(random[i])"
   ]
  },
  {
   "cell_type": "code",
   "execution_count": null,
   "metadata": {},
   "outputs": [],
   "source": [
    "def plot_histogram_heat_maps(zeros, random, title):\n",
    "    n = 1000\n",
    "    fig = plt.figure(figsize=(15, 3))\n",
    "    fig.subplots_adjust(wspace=0.1)\n",
    "\n",
    "    gs = gridspec.GridSpec(1, 4, width_ratios=[1, 1, 1, .03])\n",
    "\n",
    "    d = {\"zeros\": zeros, \"random\": random}\n",
    "    ax_map = {\"zeros\": 1, \"random\": 2}\n",
    "    hist = {}\n",
    "    axs = []\n",
    "    for i in range(4):\n",
    "        axs.append(fig.add_subplot(gs[0, i]))\n",
    "\n",
    "    ymin = min(min(d[\"zeros\"]), min(d[\"random\"]))\n",
    "    ymax = max(max(d[\"zeros\"]), max(d[\"random\"]))\n",
    "\n",
    "    for input in [\"zeros\", \"random\"]:\n",
    "        d_in = d[input]\n",
    "        color = \"black\" if input == \"zeros\" else \"silver\"\n",
    "\n",
    "        axs[0].hist(d_in, bins=range(ymin, ymax + 1), alpha=0.75, color=color, label=input, orientation='horizontal')\n",
    "\n",
    "        ax = axs[ax_map[input]]\n",
    "        hist[input] = ax.hist2d(\n",
    "            range(len(d_in)),\n",
    "            d_in,\n",
    "            bins=[range(0, len(d_in), n), range(ymin, ymax + 1)],\n",
    "            cmap=\"binary\",\n",
    "            alpha=0.75,\n",
    "            label=input,\n",
    "        )\n",
    "        ax.set_xlabel('Sample index (x1000)')\n",
    "        ax.set_ylim(ymin, ymax)\n",
    "        ax.set_title(input)\n",
    "        ax.yaxis.set_tick_params(labelleft=False)\n",
    "\n",
    "    fig.colorbar(hist[\"random\"][3], cax=axs[3], format=ticker.FuncFormatter(lambda x, pos : f\"{x/n:.2f}\"))\n",
    "\n",
    "    axs[0].yaxis.set_major_locator(MaxNLocator(integer=True))\n",
    "    axs[0].set_ylabel('Cycles')\n",
    "    axs[0].set_xlabel('Samples (x1000)')\n",
    "    axs[0].set_ylim(ymin, ymax)\n",
    "    axs[0].invert_xaxis()\n",
    "    axs[0].set_title(title)\n",
    "    axs[0].legend()\n",
    "\n",
    "    for i in range(3):\n",
    "        axs[i].xaxis.set_major_formatter(ticker.FuncFormatter(lambda x, pos : f\"{x/1000:.0f}\"))\n"
   ]
  },
  {
   "cell_type": "code",
   "execution_count": null,
   "metadata": {},
   "outputs": [],
   "source": [
    "plot_histogram_heat_maps(zeros[0], random[0], \"HPS2048509, stack, ours\")"
   ]
  },
  {
   "cell_type": "code",
   "execution_count": null,
   "metadata": {},
   "outputs": [],
   "source": [
    "plot_histogram_heat_maps(zeros[1], random[1], \"HPS4096821, mmap, ours\")"
   ]
  },
  {
   "cell_type": "code",
   "execution_count": null,
   "metadata": {},
   "outputs": [],
   "source": [
    "plot_histogram_heat_maps(zeros[2], random[2], \"HRSS701, stack, TMVP\")"
   ]
  },
  {
   "cell_type": "code",
   "execution_count": null,
   "metadata": {},
   "outputs": [],
   "source": [
    "def plot_3_histogram_heat_maps(zeros, random):\n",
    "    n = 1000\n",
    "    fig = plt.figure(figsize=(10, 6), dpi=600)\n",
    "    fig.subplots_adjust(wspace=0.1, hspace=0.2)\n",
    "\n",
    "    gs = gridspec.GridSpec(3, 4, width_ratios=[1, 1, 1, .03])\n",
    "    labels = [\"(a)\", \"(b)\", \"(c)\"]\n",
    "\n",
    "    for i in range(3):\n",
    "        d = {\"zeros\": zeros[i], \"random\": random[i]}\n",
    "        ax_map = {\"zeros\": 1, \"random\": 2}\n",
    "        hist = {}\n",
    "        axs = []\n",
    "        for j in range(4):\n",
    "            axs.append(fig.add_subplot(gs[i, j]))\n",
    "\n",
    "        ymin = min(min(d[\"zeros\"]), min(d[\"random\"]))\n",
    "        ymax = max(max(d[\"zeros\"]), max(d[\"random\"]))\n",
    "\n",
    "        for input in [\"zeros\", \"random\"]:\n",
    "            d_in = d[input]\n",
    "            color = \"black\" if input == \"zeros\" else \"silver\"\n",
    "\n",
    "            axs[0].hist(d_in, bins=range(ymin, ymax + 1), alpha=0.75, color=color, label=input, orientation='horizontal')\n",
    "\n",
    "            ax = axs[ax_map[input]]\n",
    "            hist[input] = ax.hist2d(\n",
    "                range(len(d_in)),\n",
    "                d_in,\n",
    "                bins=[range(0, len(d_in), n), range(ymin, ymax + 1)],\n",
    "                cmap=\"binary\",\n",
    "                alpha=0.75,\n",
    "                label=input,\n",
    "                rasterized=True,\n",
    "            )\n",
    "            if i == 2:\n",
    "                ax.set_xlabel('Sample index ($\\\\times 1000$)')\n",
    "            ax.set_ylim(ymin, ymax)\n",
    "            if i == 0:\n",
    "                ax.set_title(input)\n",
    "            ax.yaxis.set_tick_params(labelleft=False)\n",
    "\n",
    "        fig.colorbar(hist[\"random\"][3], cax=axs[3], format=ticker.FuncFormatter(lambda x, pos : f\"{x/n:.2f}\"))\n",
    "\n",
    "        axs[0].yaxis.set_major_locator(MaxNLocator(integer=True))\n",
    "        axs[0].set_ylabel('Cycles')\n",
    "        if i == 2:\n",
    "            axs[0].set_xlabel('Samples ($\\\\times 1000$)')\n",
    "        # axs[0].set_xlim(0, 165e3)\n",
    "        axs[0].set_ylim(ymin, ymax)\n",
    "        axs[0].invert_xaxis()\n",
    "        axs[0].legend()\n",
    "\n",
    "        for j in range(3):\n",
    "            axs[j].xaxis.set_major_formatter(ticker.FuncFormatter(lambda x, pos : f\"{x/1000:.0f}\"))\n",
    "            # if i < 2:\n",
    "            #     axs[j].xaxis.set_ticklabels([])\n",
    "    \n",
    "        fig.text(0.03, 0.76 - 0.265*i, labels[i])\n",
    "\n",
    "    plt.savefig(os.path.join(path, \"histograms_heat_maps\", \"histograms_heat_maps.pgf\"), bbox_inches='tight', pad_inches=0)"
   ]
  },
  {
   "cell_type": "code",
   "execution_count": null,
   "metadata": {},
   "outputs": [],
   "source": [
    "matplotlib.use(\"pgf\")\n",
    "matplotlib.backend_bases.register_backend('pgf', FigureCanvasPgf)\n",
    "plt.rcParams.update({\n",
    "    \"pgf.texsystem\": \"pdflatex\",\n",
    "    'font.family': 'serif',\n",
    "    'text.usetex': True,\n",
    "    'pgf.rcfonts': False,\n",
    "    'path.simplify': True,\n",
    "})"
   ]
  },
  {
   "cell_type": "code",
   "execution_count": null,
   "metadata": {},
   "outputs": [],
   "source": [
    "plot_3_histogram_heat_maps(zeros, random)"
   ]
  }
 ],
 "metadata": {
  "kernelspec": {
   "display_name": "Python 3",
   "language": "python",
   "name": "python3"
  },
  "language_info": {
   "codemirror_mode": {
    "name": "ipython",
    "version": 3
   },
   "file_extension": ".py",
   "mimetype": "text/x-python",
   "name": "python",
   "nbconvert_exporter": "python",
   "pygments_lexer": "ipython3",
   "version": "3.11.8"
  }
 },
 "nbformat": 4,
 "nbformat_minor": 2
}
